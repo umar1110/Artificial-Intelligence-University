{
 "cells": [
  {
   "cell_type": "code",
   "execution_count": 2,
   "id": "c8175f0c-7c05-41ef-8fda-d300888df5a1",
   "metadata": {},
   "outputs": [
    {
     "name": "stdout",
     "output_type": "stream",
     "text": [
      "['S', 'C', 'F', 'E', 'G', 'Total Cost: 5']\n"
     ]
    }
   ],
   "source": [
    "MyGraph = {\n",
    "    'S' : {'A':3,'C':2,'D':2},\n",
    "    'D' : {'B':3,'G':8},\n",
    "    'B' : {'E':2},\n",
    "    'E' : {'G':2},\n",
    "    'C' : {'F':1},\n",
    "    'F' : {'E':0,'G':4},\n",
    "}\n",
    "def UCS(MyGraph,Start):\n",
    "    cost=0\n",
    "    path=[\"S\"]\n",
    "    Queue, Visited = [cost,path],[]\n",
    "    while Queue:\n",
    "        minIndex=0\n",
    "        i=0\n",
    "        while i<len(Queue):\n",
    "            if Queue[minIndex] > Queue[i]:\n",
    "                minIndex=i\n",
    "            i=i+2\n",
    "\n",
    "        cost = Queue.pop(minIndex)\n",
    "        path = Queue.pop(minIndex)\n",
    "        last=path[len(path)-1]\n",
    "        if last not in Visited:\n",
    "            Visited.append(last)\n",
    "            if last==\"G\":\n",
    "                path.append(\"Total Cost: \"+str(cost))\n",
    "                return path\n",
    "            if last not in MyGraph:\n",
    "                continue\n",
    "            for N in MyGraph[last].keys():\n",
    "                NewPath=list(path)\n",
    "                NewPath.append(N)\n",
    "                Queue.append(cost+MyGraph[last][N])\n",
    "                Queue.append(NewPath)\n",
    "    return 0\n",
    "\n",
    "print(UCS(MyGraph,'A'))"
   ]
  },
  {
   "cell_type": "code",
   "execution_count": 2,
   "id": "6e9eedf8-48dd-4ba4-98f5-2f51feda7394",
   "metadata": {},
   "outputs": [
    {
     "name": "stdout",
     "output_type": "stream",
     "text": [
      "Path: ['S', 'C', 'F', 'E', 'G']\n",
      "Total Cost: 5\n"
     ]
    }
   ],
   "source": [
    "import heapq\n",
    "\n",
    "def ucs(graph, start, goal):\n",
    "    queue = [(0, [start])]  # (cost, path)\n",
    "    visited = set()\n",
    "\n",
    "    while queue:\n",
    "        cost, path = heapq.heappop(queue)\n",
    "        node = path[-1]\n",
    "\n",
    "        if node == goal:\n",
    "            return path, cost\n",
    "\n",
    "        if node in visited:\n",
    "            continue\n",
    "        visited.add(node)\n",
    "\n",
    "        for neighbor, edge_cost in graph.get(node, {}).items():\n",
    "            new_path = path + [neighbor]\n",
    "            new_cost = cost + edge_cost\n",
    "            heapq.heappush(queue, (new_cost, new_path))\n",
    "\n",
    "    return None, float('inf')  # goal not reachable\n",
    "\n",
    "graph = {\n",
    "    'S': {'A': 3, 'C': 2, 'D': 2},\n",
    "    'D': {'B': 3, 'G': 8},\n",
    "    'B': {'E': 2},\n",
    "    'E': {'G': 2},\n",
    "    'C': {'F': 1},\n",
    "    'F': {'E': 0, 'G': 4},\n",
    "}\n",
    "\n",
    "path, cost = ucs(graph, 'S', 'G')\n",
    "print(\"Path:\", path)\n",
    "print(\"Total Cost:\", cost)\n"
   ]
  },
  {
   "cell_type": "code",
   "execution_count": null,
   "id": "d893116e-ffa5-457c-a3b2-dbe2ab26f960",
   "metadata": {},
   "outputs": [],
   "source": []
  }
 ],
 "metadata": {
  "kernelspec": {
   "display_name": "Python [conda env:base] *",
   "language": "python",
   "name": "conda-base-py"
  },
  "language_info": {
   "codemirror_mode": {
    "name": "ipython",
    "version": 3
   },
   "file_extension": ".py",
   "mimetype": "text/x-python",
   "name": "python",
   "nbconvert_exporter": "python",
   "pygments_lexer": "ipython3",
   "version": "3.12.7"
  }
 },
 "nbformat": 4,
 "nbformat_minor": 5
}
