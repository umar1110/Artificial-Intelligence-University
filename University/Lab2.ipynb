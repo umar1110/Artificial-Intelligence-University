{
 "cells": [
  {
   "cell_type": "code",
   "execution_count": 4,
   "id": "8185cd8c-855a-437f-a101-149df46cc345",
   "metadata": {},
   "outputs": [
    {
     "name": "stdout",
     "output_type": "stream",
     "text": [
      "Sorted array: [7, 9, 11, 23, 34, 78]\n"
     ]
    }
   ],
   "source": [
    "# Selection Sort\n",
    "def selection_sort(items):\n",
    "    for step in range(len(items)):\n",
    "        location_of_smallest = step\n",
    "        for location in range(step + 1, len(items)):\n",
    "            if items[location] < items[location_of_smallest]:\n",
    "                location_of_smallest = location\n",
    "        items[step], items[location_of_smallest] = items[location_of_smallest], items[step]\n",
    "\n",
    "arr = [7, 9 ,34 , 78 , 23 , 11]\n",
    "selection_sort(arr)\n",
    "print(\"Sorted array:\", arr)\n"
   ]
  },
  {
   "cell_type": "code",
   "execution_count": 8,
   "id": "93cbe6ad-530f-4776-afaa-0aabc084e3f9",
   "metadata": {},
   "outputs": [
    {
     "name": "stdout",
     "output_type": "stream",
     "text": [
      "Sorted array: [7, 9, 11, 23, 34, 78]\n"
     ]
    }
   ],
   "source": [
    "# Merge Sort\n",
    "def merge_sort(arr):\n",
    "    if len(arr) > 1:\n",
    "        mid = len(arr) // 2\n",
    "        left_half = arr[:mid]\n",
    "        right_half = arr[mid:]\n",
    "\n",
    "        merge_sort(left_half)\n",
    "        merge_sort(right_half)\n",
    "\n",
    "        merge(arr, left_half, right_half)\n",
    "\n",
    "def merge(arr, left_half, right_half):\n",
    "    i = j = k = 0\n",
    "\n",
    "    while i < len(left_half) and j < len(right_half):\n",
    "        if left_half[i] < right_half[j]:\n",
    "            arr[k] = left_half[i]\n",
    "            i += 1\n",
    "        else:\n",
    "            arr[k] = right_half[j]\n",
    "            j += 1\n",
    "        k += 1\n",
    "\n",
    "    while i < len(left_half):\n",
    "        arr[k] = left_half[i]\n",
    "        i += 1\n",
    "        k += 1\n",
    "\n",
    "    while j < len(right_half):\n",
    "        arr[k] = right_half[j]\n",
    "        j += 1\n",
    "        k += 1\n",
    "\n",
    "arr = [7, 9 ,34 , 78 , 23 , 11]\n",
    "merge_sort(arr)\n",
    "print(\"Sorted array:\", arr)\n"
   ]
  },
  {
   "cell_type": "code",
   "execution_count": 14,
   "id": "e8a5c10f-e34e-4e1c-9c8c-0f05d209a514",
   "metadata": {},
   "outputs": [
    {
     "name": "stdout",
     "output_type": "stream",
     "text": [
      "Bubble Sort: ['H', 'N', 'O', 'P', 'T', 'Y']\n",
      "Selection Sort: ['H', 'N', 'O', 'P', 'T', 'Y']\n",
      "Insertion Sort: ['H', 'N', 'O', 'P', 'T', 'Y']\n",
      "Merge Sort: ['H', 'N', 'O', 'P', 'T', 'Y']\n"
     ]
    }
   ],
   "source": [
    "def bubble_sort(arr):\n",
    "    n = len(arr)\n",
    "    for i in range(n):\n",
    "        for j in range(0, n-i-1):\n",
    "            if arr[j] > arr[j+1]:\n",
    "                arr[j], arr[j+1] = arr[j+1], arr[j]\n",
    "\n",
    "arr = ['P', 'Y', 'T', 'H', 'O', 'N']\n",
    "bubble_sort(arr)\n",
    "print(\"Bubble Sort:\", arr)\n",
    "\n",
    "\n",
    "def selection_sort(items):\n",
    "    for step in range(len(items)):\n",
    "        location_of_smallest = step\n",
    "        for location in range(step + 1, len(items)):\n",
    "            if items[location] < items[location_of_smallest]:\n",
    "                location_of_smallest = location\n",
    "        items[step], items[location_of_smallest] = items[location_of_smallest], items[step]\n",
    "arr = ['P', 'Y', 'T', 'H', 'O', 'N']\n",
    "selection_sort(arr)\n",
    "print(\"Selection Sort:\", arr)\n",
    "\n",
    "\n",
    "\n",
    "\n",
    "def insertion_sort(arr):\n",
    "    for i in range(1, len(arr)):\n",
    "        key = arr[i]\n",
    "        j = i - 1\n",
    "        while j >= 0 and key < arr[j]:\n",
    "            arr[j + 1] = arr[j]\n",
    "            j -= 1\n",
    "        arr[j + 1] = key\n",
    "\n",
    "arr = ['P', 'Y', 'T', 'H', 'O', 'N']\n",
    "insertion_sort(arr)\n",
    "print(\"Insertion Sort:\", arr)\n",
    "\n",
    "def merge_sort(arr):\n",
    "    if len(arr) > 1:\n",
    "        mid = len(arr) // 2\n",
    "        left_half = arr[:mid]\n",
    "        right_half = arr[mid:]\n",
    "\n",
    "        merge_sort(left_half)\n",
    "        merge_sort(right_half)\n",
    "\n",
    "        merge(arr, left_half, right_half)\n",
    "\n",
    "def merge(arr, left_half, right_half):\n",
    "    i = j = k = 0\n",
    "\n",
    "    while i < len(left_half) and j < len(right_half):\n",
    "        if left_half[i] < right_half[j]:\n",
    "            arr[k] = left_half[i]\n",
    "            i += 1\n",
    "        else:\n",
    "            arr[k] = right_half[j]\n",
    "            j += 1\n",
    "        k += 1\n",
    "\n",
    "    while i < len(left_half):\n",
    "        arr[k] = left_half[i]\n",
    "        i += 1\n",
    "        k += 1\n",
    "\n",
    "    while j < len(right_half):\n",
    "        arr[k] = right_half[j]\n",
    "        j += 1\n",
    "        k += 1\n",
    "        \n",
    "arr = ['P', 'Y', 'T', 'H', 'O', 'N']\n",
    "merge_sort(arr)\n",
    "print(\"Merge Sort:\", arr)"
   ]
  },
  {
   "cell_type": "code",
   "execution_count": 16,
   "id": "3a4682d9-db3d-4a00-9b04-3d767f60fd46",
   "metadata": {},
   "outputs": [
    {
     "name": "stdout",
     "output_type": "stream",
     "text": [
      "Mean: 5.363636363636363\n",
      "Median: 5\n",
      "Mode: [5, 9]\n"
     ]
    }
   ],
   "source": [
    "from collections import Counter\n",
    "\n",
    "def calculate_statistics(numbers):\n",
    "    numbers.sort()\n",
    "    \n",
    "    # Mean\n",
    "    mean = sum(numbers) / len(numbers)\n",
    "\n",
    "    # Median\n",
    "    n = len(numbers)\n",
    "    if n % 2 == 0:\n",
    "        median = (numbers[n//2 - 1] + numbers[n//2]) / 2\n",
    "    else:\n",
    "        median = numbers[n//2]\n",
    "\n",
    "    # Mode\n",
    "    frequency = Counter(numbers)\n",
    "    max_count = max(frequency.values())\n",
    "    mode = [key for key, val in frequency.items() if val == max_count]\n",
    "\n",
    "    return mean, median, mode\n",
    "\n",
    "\n",
    "numbers = [1, 2, 3, 4, 5, 5, 6, 7, 8, 9, 9]\n",
    "mean, median, mode = calculate_statistics(numbers)\n",
    "print(\"Mean:\", mean)\n",
    "print(\"Median:\", median)\n",
    "print(\"Mode:\", mode)\n"
   ]
  },
  {
   "cell_type": "code",
   "execution_count": 18,
   "id": "1eee24d8-ac75-454c-81f3-07798cb79db7",
   "metadata": {},
   "outputs": [
    {
     "name": "stdout",
     "output_type": "stream",
     "text": [
      "Duplicates: [2, 3, 5]\n"
     ]
    }
   ],
   "source": [
    "def dups(lst):\n",
    "    seen = set()\n",
    "    duplicates = set()\n",
    "    \n",
    "    for item in lst:\n",
    "        if item in seen:\n",
    "            duplicates.add(item)\n",
    "        else:\n",
    "            seen.add(item)\n",
    "    \n",
    "    return list(duplicates)\n",
    "\n",
    "# Example usage\n",
    "numbers = [1, 2, 3, 4, 5, 2, 3, 6, 7, 8, 5, 9]\n",
    "duplicates = dups(numbers)\n",
    "print(\"Duplicates:\", duplicates)\n",
    "\n"
   ]
  },
  {
   "cell_type": "code",
   "execution_count": 20,
   "id": "a333b1e7-2880-4b62-8d3a-a9a3aec72321",
   "metadata": {},
   "outputs": [
    {
     "name": "stdout",
     "output_type": "stream",
     "text": [
      "[1, 3, 5]\n",
      "10\n",
      "7\n"
     ]
    }
   ],
   "source": [
    "a = [1, 3, 5]\n",
    "b = [2, 4, 6]\n",
    "c = a + b\n",
    "d = sorted(c)\n",
    "d.reverse()\n",
    "c[3] = 42\n",
    "d.append(10)\n",
    "c.extend([7, 8, 9])\n",
    "print(c[:3])\n",
    "print(d[-1])\n",
    "print(len(d))\n"
   ]
  },
  {
   "cell_type": "code",
   "execution_count": 22,
   "id": "ee9cff36-9704-4821-be96-081cf279bacf",
   "metadata": {},
   "outputs": [
    {
     "name": "stdout",
     "output_type": "stream",
     "text": [
      "3\n",
      "[3, 4]\n"
     ]
    }
   ],
   "source": [
    "a = [(1,), (2, 3), (4, 5, 6)]\n",
    "print(a[1][1])\n",
    "\n",
    "b = [[1, 2, 3, 4], [5, 6, 7, 8], [9, 10, 11, 12], [13, 14, 15, 16]]\n",
    "print(b[0][-2:])\n",
    "\n"
   ]
  },
  {
   "cell_type": "code",
   "execution_count": 24,
   "id": "8d8d84d0-b60a-417b-8c9f-267655bfcb90",
   "metadata": {},
   "outputs": [
    {
     "name": "stdout",
     "output_type": "stream",
     "text": [
      "{1: [], 2: ['Independence Day Celebration'], 3: [], 4: []}\n"
     ]
    }
   ],
   "source": [
    "calendar = {month: {week: [] for week in range(1, 5)} for month in \n",
    "            [\"January\", \"February\", \"March\", \"April\", \"May\", \"June\", \n",
    "             \"July\", \"August\", \"September\", \"October\", \"November\", \"December\"]}\n",
    "\n",
    "calendar[\"July\"][2].append(\"Independence Day Celebration\")\n",
    "\n",
    "print(calendar[\"July\"])\n"
   ]
  },
  {
   "cell_type": "code",
   "execution_count": 2,
   "id": "8a9503e5-ed2b-49a8-b8cf-cd01f3b9251b",
   "metadata": {},
   "outputs": [
    {
     "name": "stdout",
     "output_type": "stream",
     "text": [
      "[10, 11, 12, 13, 14, 15, 16, 17, 18, 19, 20, 21, 22, 23, 24, 25, 26, 27, 28, 29, 30, 31, 32, 33, 34, 35, 36, 37, 38, 39, 40, 41, 42, 43, 44, 45, 46, 47, 48, 49, 50, 51, 52, 53, 54, 55, 56, 57, 58, 59, 60, 61, 62, 63, 64, 65, 66, 67, 68, 69, 70, 71, 72, 73, 74, 75, 76, 77, 78, 79, 80, 81, 82, 83, 84, 85, 86, 87, 88, 89, 90, 91, 92, 93, 94, 95, 96, 97, 98, 99, 100, 101, 102, 103, 104, 105, 106, 107, 108, 109, 110, 111, 112, 113, 114, 115, 116, 117, 118, 119, 120, 121, 122, 123, 124, 125, 126, 127, 128, 129, 130, 131, 132, 133, 134, 135, 136, 137, 138, 139, 140, 141, 142, 143, 144, 145, 146, 147, 148, 149, 150, 151, 152, 153, 154, 155, 156, 157, 158, 159, 160, 161, 162, 163, 164, 165, 166, 167, 168, 169, 170, 171, 172, 173, 174, 175, 176, 177, 178, 179, 180, 181, 182, 183, 184, 185, 186, 187, 188, 189, 190, 191, 192, 193, 194, 195, 196, 197, 198, 199, 200, 201, 202, 203, 204, 205, 206, 207, 208, 209, 210, 211, 212, 213, 214, 215, 216, 217, 218, 219, 220, 221, 222, 223, 224, 225, 226, 227, 228, 229, 230, 231, 232, 233, 234, 235, 236, 237, 238, 239, 240, 241, 242, 243, 244, 245, 246, 247, 248, 249, 250, 251, 252, 253, 254, 255, 256, 257, 258, 259, 260, 261, 262, 263, 264, 265, 266, 267, 268, 269, 270, 271, 272, 273, 274, 275, 276, 277, 278, 279, 280, 281, 282, 283, 284, 285, 286, 287, 288, 289, 290, 291, 292, 293, 294, 295, 296, 297, 298, 299, 300]\n"
     ]
    }
   ],
   "source": [
    "big_list = list(range(10, 301))\n",
    "\n",
    "print(big_list)"
   ]
  },
  {
   "cell_type": "code",
   "execution_count": null,
   "id": "86b59cc0-9d04-41d5-b197-5fcdc13f82a1",
   "metadata": {},
   "outputs": [],
   "source": []
  }
 ],
 "metadata": {
  "kernelspec": {
   "display_name": "Python [conda env:base] *",
   "language": "python",
   "name": "conda-base-py"
  },
  "language_info": {
   "codemirror_mode": {
    "name": "ipython",
    "version": 3
   },
   "file_extension": ".py",
   "mimetype": "text/x-python",
   "name": "python",
   "nbconvert_exporter": "python",
   "pygments_lexer": "ipython3",
   "version": "3.12.7"
  }
 },
 "nbformat": 4,
 "nbformat_minor": 5
}
