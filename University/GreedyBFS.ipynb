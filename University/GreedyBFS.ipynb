{
 "cells": [
  {
   "cell_type": "code",
   "execution_count": 82,
   "id": "36d65947-5ca5-4c50-92ca-87c78e702afc",
   "metadata": {},
   "outputs": [
    {
     "name": "stdout",
     "output_type": "stream",
     "text": [
      "['S', 'A', 'D', 'G']\n"
     ]
    }
   ],
   "source": [
    "import heapq\n",
    "\n",
    "# Graph and heuristic\n",
    "graph = {\n",
    "    'S': {'A': 1, 'B': 4},\n",
    "    'A': {'C': 1, 'D': 4},\n",
    "    'B': {'D': 2},\n",
    "    'C': {'G': 5},\n",
    "    'D': {'G': 1},\n",
    "    'G': {}\n",
    "}\n",
    "\n",
    "heuristic = {\n",
    "    'S': 7,\n",
    "    'A': 0,\n",
    "    'B': 5,\n",
    "    'C': 4,\n",
    "    'D': 2,\n",
    "    'G': 0\n",
    "}\n",
    "\n",
    "# Greedy Best First Search\n",
    "def greedy_bfs(graph, start, goal, heuristic):\n",
    "    queue = [(heuristic[start], [start])]\n",
    "    visited = set()\n",
    "  \n",
    "    while queue:\n",
    "        _, path = heapq.heappop(queue)\n",
    "        node = path[-1]\n",
    "\n",
    "        if node == goal:\n",
    "            return path\n",
    "\n",
    "        if node in visited:\n",
    "            continue\n",
    "        visited.add(node)\n",
    "\n",
    "        for neighbor in graph.get(node, {}).keys():\n",
    "            # print(queue)\n",
    "            # print(neighbor)\n",
    "            heapq.heappush(queue, (heuristic[neighbor], path + [neighbor]))\n",
    "\n",
    "    return None\n",
    "\n",
    "path = greedy_bfs(graph, 'S','G',heuristic)\n",
    "print(path)"
   ]
  },
  {
   "cell_type": "code",
   "execution_count": 74,
   "id": "5d10b153-6994-4477-9786-71c27d194e53",
   "metadata": {},
   "outputs": [
    {
     "name": "stdout",
     "output_type": "stream",
     "text": [
      "['S', 'A', 'D', 'G'] 6\n"
     ]
    }
   ],
   "source": [
    "\n",
    "# A* Algo\n",
    "\n",
    "\n",
    "import heapq\n",
    "\n",
    "# Graph and heuristic\n",
    "graph = {\n",
    "    'S': {'A': 1, 'B': 4},\n",
    "    'A': {'C': 1, 'D': 4},\n",
    "    'B': {'D': 2},\n",
    "    'C': {'G': 5},\n",
    "    'D': {'G': 1},\n",
    "    'G': {}\n",
    "}\n",
    "\n",
    "heuristic = {\n",
    "    'S': 7,\n",
    "    'A': 0,\n",
    "    'B': 5,\n",
    "    'C': 4,\n",
    "    'D': 2,\n",
    "    'G': 0\n",
    "}\n",
    "\n",
    "def greedyBFS(graph , start , goal , h):\n",
    "    queue = [(h[start],0,[start])]\n",
    "    visited = set()\n",
    "    \n",
    "   \n",
    "    while queue:\n",
    "        _, cost , path = heapq.heappop(queue)\n",
    "        \n",
    "        node = path[-1]\n",
    "\n",
    "        if node == goal:\n",
    "            \n",
    "            return path,cost\n",
    "\n",
    "        if node in visited:\n",
    "            continue\n",
    "\n",
    "        visited.add(node)\n",
    "\n",
    "        for   nei,edgeCost in graph.get(node, {}).items():\n",
    "            \n",
    "            newCost = cost + edgeCost\n",
    "            newHeuristic = newCost + h[nei]\n",
    "            newPath = path + [nei]\n",
    "            heapq.heappush(queue, (newHeuristic,newCost , newPath))\n",
    "               \n",
    "    return null\n",
    "\n",
    "\n",
    "\n",
    "path,cost = greedyBFS(graph, 'S','G',heuristic)\n",
    "print(path,cost)"
   ]
  },
  {
   "cell_type": "code",
   "execution_count": null,
   "id": "a10d1e87-7720-46d0-832c-2c7ce5b53f5d",
   "metadata": {},
   "outputs": [],
   "source": []
  }
 ],
 "metadata": {
  "kernelspec": {
   "display_name": "Python [conda env:base] *",
   "language": "python",
   "name": "conda-base-py"
  },
  "language_info": {
   "codemirror_mode": {
    "name": "ipython",
    "version": 3
   },
   "file_extension": ".py",
   "mimetype": "text/x-python",
   "name": "python",
   "nbconvert_exporter": "python",
   "pygments_lexer": "ipython3",
   "version": "3.12.7"
  }
 },
 "nbformat": 4,
 "nbformat_minor": 5
}
