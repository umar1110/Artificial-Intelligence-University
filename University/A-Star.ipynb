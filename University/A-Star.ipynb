{
 "cells": [
  {
   "cell_type": "code",
   "execution_count": 6,
   "id": "36d65947-5ca5-4c50-92ca-87c78e702afc",
   "metadata": {},
   "outputs": [
    {
     "name": "stdout",
     "output_type": "stream",
     "text": [
      "['S', 'A', 'D', 'G'] 6\n"
     ]
    }
   ],
   "source": [
    "import heapq\n",
    "\n",
    "# Graph and heuristic\n",
    "graph = {\n",
    "    'S': {'A': 1, 'B': 4},\n",
    "    'A': {'C': 1, 'D': 4},\n",
    "    'B': {'D': 2},\n",
    "    'C': {'G': 5},\n",
    "    'D': {'G': 1},\n",
    "    'G': {}\n",
    "}\n",
    "\n",
    "heuristic = {\n",
    "    'S': 7,\n",
    "    'A': 6,\n",
    "    'B': 5,\n",
    "    'C': 4,\n",
    "    'D': 2,\n",
    "    'G': 0\n",
    "}\n",
    "# A* Search\n",
    "def a_star(graph, start, goal, heuristic):\n",
    "    queue = [(heuristic[start], 0, [start])]  # (f, g, path)\n",
    "    visited = set()\n",
    "\n",
    "    while queue:\n",
    "        _, cost, path = heapq.heappop(queue)\n",
    "        node = path[-1]\n",
    "\n",
    "        if node == goal:\n",
    "            return path, cost\n",
    "\n",
    "        if node in visited:\n",
    "            continue\n",
    "        visited.add(node)\n",
    "\n",
    "        for neighbor, edge_cost in graph.get(node, {}).items():\n",
    "            g = cost + edge_cost\n",
    "            f = g + heuristic[neighbor]\n",
    "            heapq.heappush(queue, (f, g, path + [neighbor]))\n",
    "\n",
    "    return None, float('inf')\n",
    "    \n",
    "path,cost = a_star(graph,'S','G',heuristic)\n",
    "print(path,cost)"
   ]
  },
  {
   "cell_type": "code",
   "execution_count": null,
   "id": "972844a6-a68a-4cf8-b576-a712c0a994d2",
   "metadata": {},
   "outputs": [],
   "source": []
  }
 ],
 "metadata": {
  "kernelspec": {
   "display_name": "Python [conda env:base] *",
   "language": "python",
   "name": "conda-base-py"
  },
  "language_info": {
   "codemirror_mode": {
    "name": "ipython",
    "version": 3
   },
   "file_extension": ".py",
   "mimetype": "text/x-python",
   "name": "python",
   "nbconvert_exporter": "python",
   "pygments_lexer": "ipython3",
   "version": "3.12.7"
  }
 },
 "nbformat": 4,
 "nbformat_minor": 5
}
