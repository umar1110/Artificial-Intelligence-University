{
 "cells": [
  {
   "cell_type": "code",
   "execution_count": 3,
   "id": "905b3f06-172c-45cb-9e3e-21337a1ec4d3",
   "metadata": {},
   "outputs": [
    {
     "name": "stdout",
     "output_type": "stream",
     "text": [
      "Expression: 250 -> Value: 250 Type: <class 'int'>\n",
      "Expression: 28 % 5 -> Value: 3 Type: <class 'int'>\n",
      "Expression: 2.5e2 -> Value: 250.0 Type: <class 'float'>\n",
      "Expression: 3e5 -> Value: 300000.0 Type: <class 'float'>\n",
      "Expression: 3 * 10**5 -> Value: 300000 Type: <class 'int'>\n",
      "Expression: 20 + 35 * 2 -> Value: 90 Type: <class 'int'>\n",
      "Expression: (20 + 35) * 2 -> Value: 110 Type: <class 'int'>\n",
      "Expression: 2 / 3 * 3 -> Value: 2.0 Type: <class 'float'>\n",
      "Expression: 2 // 3 * 3 -> Value: 0 Type: <class 'int'>\n",
      "Expression: 25 - 5 * 2 - 9 -> Value: 6 Type: <class 'int'>\n",
      "Expression: ((25 - 5) * 2) - 9 -> Value: 31 Type: <class 'int'>\n",
      "Expression: 25 - ((5 * 2) - 9) -> Value: 24 Type: <class 'int'>\n"
     ]
    }
   ],
   "source": [
    "# Task 1.1\n",
    "expr1 = 250\n",
    "print(\"Expression: 250 -> Value:\", expr1, \"Type:\", type(expr1))\n",
    "\n",
    "expr2 = 28 % 5\n",
    "print(\"Expression: 28 % 5 -> Value:\", expr2, \"Type:\", type(expr2))\n",
    "\n",
    "expr3 = 2.5e2\n",
    "print(\"Expression: 2.5e2 -> Value:\", expr3, \"Type:\", type(expr3))\n",
    "\n",
    "expr4 = 3e5\n",
    "print(\"Expression: 3e5 -> Value:\", expr4, \"Type:\", type(expr4))\n",
    "\n",
    "expr5 = 3 * 10**5\n",
    "print(\"Expression: 3 * 10**5 -> Value:\", expr5, \"Type:\", type(expr5))\n",
    "\n",
    "expr6 = 20 + 35 * 2\n",
    "print(\"Expression: 20 + 35 * 2 -> Value:\", expr6, \"Type:\", type(expr6))\n",
    "\n",
    "expr7 = (20 + 35) * 2\n",
    "print(\"Expression: (20 + 35) * 2 -> Value:\", expr7, \"Type:\", type(expr7))\n",
    "\n",
    "expr8 = 2 / 3 * 3\n",
    "print(\"Expression: 2 / 3 * 3 -> Value:\", expr8, \"Type:\", type(expr8))\n",
    "\n",
    "expr9 = 2 // 3 * 3\n",
    "print(\"Expression: 2 // 3 * 3 -> Value:\", expr9, \"Type:\", type(expr9))\n",
    "\n",
    "expr10 = 25 - 5 * 2 - 9\n",
    "print(\"Expression: 25 - 5 * 2 - 9 -> Value:\", expr10, \"Type:\", type(expr10))\n",
    "\n",
    "expr11 = ((25 - 5) * 2) - 9\n",
    "print(\"Expression: ((25 - 5) * 2) - 9 -> Value:\", expr11, \"Type:\", type(expr11))\n",
    "\n",
    "expr12 = 25 - ((5 * 2) - 9)\n",
    "print(\"Expression: 25 - ((5 * 2) - 9) -> Value:\", expr12, \"Type:\", type(expr12))\n"
   ]
  },
  {
   "cell_type": "code",
   "execution_count": 7,
   "id": "3c5696e5-b4ac-4ee8-85c4-9d79461047df",
   "metadata": {},
   "outputs": [
    {
     "name": "stdout",
     "output_type": "stream",
     "text": [
      "vanilla ice cream sundae with caramel sauce\n",
      "vanilla ice cream sundae with butterscotch sauce\n",
      "vanilla ice cream sundae with chocolate sauce\n",
      "chocolate ice cream sundae with caramel sauce\n",
      "chocolate ice cream sundae with butterscotch sauce\n",
      "chocolate ice cream sundae with chocolate sauce\n",
      "strawberry ice cream sundae with caramel sauce\n",
      "strawberry ice cream sundae with butterscotch sauce\n",
      "strawberry ice cream sundae with chocolate sauce\n",
      "pistacchio ice cream sundae with caramel sauce\n",
      "pistacchio ice cream sundae with butterscotch sauce\n",
      "pistacchio ice cream sundae with chocolate sauce\n",
      "Total number of different sundaes: 12\n"
     ]
    }
   ],
   "source": [
    "#Task 1.2\n",
    "def sundaes():\n",
    "    flavors = [\"vanilla\", \"chocolate\", \"strawberry\", \"pistacchio\"]\n",
    "    sauces = [\"caramel\", \"butterscotch\", \"chocolate\"]\n",
    "    count = 0\n",
    "    \n",
    "    for flavor in flavors:\n",
    "        for sauce in sauces:\n",
    "            print(f\"{flavor} ice cream sundae with {sauce} sauce\")\n",
    "            count += 1\n",
    "    \n",
    "    return count\n",
    "\n",
    "# Call the function and print the total number of combinations\n",
    "total_sundaes = sundaes()\n",
    "print(\"Total number of different sundaes:\", total_sundaes)\n"
   ]
  },
  {
   "cell_type": "code",
   "execution_count": 9,
   "id": "a0dcee85-19d0-4101-98b3-2cea30ce5fa8",
   "metadata": {},
   "outputs": [
    {
     "name": "stdout",
     "output_type": "stream",
     "text": [
      "1\n",
      "2 3\n",
      "4 5 6\n",
      "7 8 9 10\n",
      "11 12 13 14 15\n",
      "16 17 18 19 20 21\n",
      "22 23 24 25 26 27 28\n",
      "29 30 31 32 33 34 35 36\n",
      "37 38 39 40 41 42 43 44 45\n",
      "46 47 48 49 50 51 52 53 54 55\n"
     ]
    }
   ],
   "source": [
    "# Task 1.3\n",
    "def triangle():\n",
    "    value = 1\n",
    "    row = 1\n",
    "    while row <= 10:  # Number of rows\n",
    "        column = 1\n",
    "        while column <= row:  # Number of columns in each row\n",
    "            if column != row:\n",
    "                print(value, ' ', sep='', end='')\n",
    "            else:\n",
    "                print(value)\n",
    "            value = value + 1\n",
    "            column = column + 1\n",
    "        row = row + 1\n",
    "\n",
    "triangle()\n"
   ]
  },
  {
   "cell_type": "code",
   "execution_count": 19,
   "id": "43366504-4e55-4cad-8905-f92741158eab",
   "metadata": {},
   "outputs": [
    {
     "data": {
      "text/plain": [
       "'Artificial Aziz Class. I Intelligence Umar am from'"
      ]
     },
     "execution_count": 19,
     "metadata": {},
     "output_type": "execute_result"
    }
   ],
   "source": [
    "\n",
    "def cube(n):\n",
    "    return n ** 3\n",
    "\n",
    "def factorial(n):\n",
    "    if n == 0:\n",
    "        return 1\n",
    "    result = 1\n",
    "    for i in range(1, n + 1):\n",
    "        result *= i\n",
    "    return result\n",
    "\n",
    "def count_pattern(pattern, lst):\n",
    "    count = 0\n",
    "    for i in range(len(lst) - len(pattern) + 1):\n",
    "        if tuple(lst[i:i+len(pattern)]) == pattern:\n",
    "            count += 1\n",
    "    return count\n",
    "\n",
    "def multiplication_table(n):\n",
    "    for i in range(1, 11):\n",
    "        print(f\"{n} x {i} = {n * i}\")\n",
    "\n",
    "def calculator(a, b, operator):\n",
    "    if operator == '+':\n",
    "        return a + b\n",
    "    elif operator == '-':\n",
    "        return a - b\n",
    "    elif operator == '*':\n",
    "        return a * b\n",
    "    elif operator == '/':\n",
    "        return a / b if b != 0 else 'Cannot divide by zero'\n",
    "    else:\n",
    "        return 'Invalid operator'\n",
    "\n",
    "def sort_sentence(sentence):\n",
    "    words = sentence.split()\n",
    "    words.sort()\n",
    "    return ' '.join(words)\n",
    "\n",
    "sort_sentence(\"I am Umar Aziz from Artificial Intelligence Class.\")"
   ]
  },
  {
   "cell_type": "code",
   "execution_count": 37,
   "id": "c61cdffc-d4cb-4f80-9e45-4824c8561ee9",
   "metadata": {},
   "outputs": [
    {
     "data": {
      "text/plain": [
       "'CCCI'"
      ]
     },
     "execution_count": 37,
     "metadata": {},
     "output_type": "execute_result"
    }
   ],
   "source": [
    "class IntegerToRoman:\n",
    "    def __init__(self):\n",
    "        self.vals = [\n",
    "            (1000, 'M'), (900, 'CM'), (500, 'D'), (400, 'CD'),\n",
    "            (100, 'C'), (90, 'XC'), (50, 'L'), (40, 'XL'),\n",
    "            (10, 'X'), (9, 'IX'), (5, 'V'), (4, 'IV'), (1, 'I')\n",
    "        ]\n",
    "    \n",
    "    def int_to_roman(self, num):\n",
    "        result = ''\n",
    "        for value, symbol in self.vals:\n",
    "            while num >= value:\n",
    "                result += symbol\n",
    "                num -= value\n",
    "        return result\n",
    "\n",
    "obj = IntegerToRoman()\n",
    "obj.int_to_roman(301)"
   ]
  },
  {
   "cell_type": "code",
   "execution_count": 41,
   "id": "203a1dc7-8f4e-4f11-99ce-0fcc12011eb5",
   "metadata": {},
   "outputs": [
    {
     "name": "stdout",
     "output_type": "stream",
     "text": [
      "(3, 4)\n"
     ]
    }
   ],
   "source": [
    "def find_pair(numbers, target):\n",
    "    num_dict = {}\n",
    "    for index, num in enumerate(numbers):\n",
    "        complement = target - num\n",
    "        if complement in num_dict:\n",
    "            return num_dict[complement]+1, index+1\n",
    "        num_dict[num] = index\n",
    "    return None\n",
    "\n",
    "# Example usage\n",
    "numbers = [10, 20, 10, 40, 50, 60, 70]\n",
    "target = 50\n",
    "result = find_pair(numbers, target)\n",
    "print(result)"
   ]
  },
  {
   "cell_type": "code",
   "execution_count": 47,
   "id": "367ee911-f305-4281-951c-c369f7e2752d",
   "metadata": {},
   "outputs": [
    {
     "name": "stdout",
     "output_type": "stream",
     "text": [
      "[[-10, 2, 8], [-7, -3, 10]]\n"
     ]
    }
   ],
   "source": [
    "def three_sum_zero(nums):\n",
    "    nums.sort()\n",
    "    result = []\n",
    "    for i in range(len(nums) - 2):\n",
    "        if i > 0 and nums[i] == nums[i - 1]:\n",
    "            continue\n",
    "        left, right = i + 1, len(nums) - 1\n",
    "        while left < right:\n",
    "            total = nums[i] + nums[left] + nums[right]\n",
    "            if total == 0:\n",
    "                result.append([nums[i], nums[left], nums[right]])\n",
    "                left += 1\n",
    "                right -= 1\n",
    "                while left < right and nums[left] == nums[left - 1]:\n",
    "                    left += 1\n",
    "                while left < right and nums[right] == nums[right + 1]:\n",
    "                    right -= 1\n",
    "            elif total < 0:\n",
    "                left += 1\n",
    "            else:\n",
    "                right -= 1\n",
    "    return result\n",
    "\n",
    "nums = [-25, -10, -7, -3, 2, 4, 8, 10]\n",
    "print(three_sum_zero(nums))\n"
   ]
  },
  {
   "cell_type": "code",
   "execution_count": 49,
   "id": "d3d08719-8647-42bc-9c8c-f76c126cb696",
   "metadata": {},
   "outputs": [
    {
     "name": "stdout",
     "output_type": "stream",
     "text": [
      ".py hello\n"
     ]
    }
   ],
   "source": [
    "\n",
    "def reverse_words(sentence):\n",
    "    return ' '.join(sentence.split()[::-1])\n",
    "sentence = 'hello .py'\n",
    "print(reverse_words(sentence))\n"
   ]
  },
  {
   "cell_type": "code",
   "execution_count": 53,
   "id": "78e08ab4-ff10-44bd-8b35-0ef6285f9b63",
   "metadata": {},
   "outputs": [
    {
     "name": "stdout",
     "output_type": "stream",
     "text": [
      "11\n"
     ]
    }
   ],
   "source": [
    "def count_characters(string):\n",
    "    return len(string)\n",
    "string = 'hello world'\n",
    "print(count_characters(string))"
   ]
  },
  {
   "cell_type": "code",
   "execution_count": 55,
   "id": "e4b9a49f-06f1-4735-9900-4dbe2e3d4366",
   "metadata": {},
   "outputs": [
    {
     "name": "stdout",
     "output_type": "stream",
     "text": [
      "[[6, 8], [10, 12]]\n"
     ]
    }
   ],
   "source": [
    "def add_matrices(A, B):\n",
    "    return [[A[i][j] + B[i][j] for j in range(len(A[0]))] for i in range(len(A))]\n",
    "A = [[1, 2], [3, 4]]\n",
    "B = [[5, 6], [7, 8]]\n",
    "print(add_matrices(A, B))"
   ]
  },
  {
   "cell_type": "code",
   "execution_count": 57,
   "id": "c605aed8-1676-4e3e-b297-3741e4ca909f",
   "metadata": {},
   "outputs": [
    {
     "name": "stdout",
     "output_type": "stream",
     "text": [
      "[[19, 22], [43, 50]]\n"
     ]
    }
   ],
   "source": [
    "def multiply_matrices(A, B):\n",
    "    result = [[0] * len(B[0]) for _ in range(len(A))]\n",
    "    for i in range(len(A)):\n",
    "        for j in range(len(B[0])):\n",
    "            for k in range(len(B)):\n",
    "                result[i][j] += A[i][k] * B[k][j]\n",
    "    return result\n",
    "A = [[1, 2], [3, 4]]\n",
    "B = [[5, 6], [7, 8]]\n",
    "print(multiply_matrices(A, B))"
   ]
  },
  {
   "cell_type": "code",
   "execution_count": 59,
   "id": "20610491-2383-48ff-96ba-e6e7c76d709b",
   "metadata": {},
   "outputs": [
    {
     "name": "stdout",
     "output_type": "stream",
     "text": [
      "50\n"
     ]
    }
   ],
   "source": [
    "\n",
    "def calculator(a, b, operation='+', output_format='float'):\n",
    "    operations = {'+': a + b, '-': a - b, '*': a * b, '/': a / b if b != 0 else None}\n",
    "    if operation not in operations:\n",
    "        raise ValueError(\"Invalid operation\")\n",
    "    result = operations[operation]\n",
    "    return round(result) if output_format == 'int' else float(result)\n",
    "\n",
    "print(calculator(10, 5, '*', 'int'))\n"
   ]
  },
  {
   "cell_type": "code",
   "execution_count": 77,
   "id": "fe0b4c1a-15d6-47f5-a013-c87bf655451b",
   "metadata": {},
   "outputs": [
    {
     "name": "stdout",
     "output_type": "stream",
     "text": [
      "Addition: 7\n",
      "Multiplication: 10\n",
      "Subtraction: 5\n",
      "Values: (3, 4)\n",
      "Updated Values: (7, 8)\n"
     ]
    }
   ],
   "source": [
    "class Numbers:\n",
    "    def __init__(self, x, y):\n",
    "        self.x = x\n",
    "        self.y = y\n",
    "        self.MULTIPLIER = 5  # Instead of class attribute, define it inside constructor\n",
    "\n",
    "    def add(self):\n",
    "        return self.x + self.y  # Simple instance method\n",
    "\n",
    "    def multiply(self, a):\n",
    "        return a * self.MULTIPLIER  # Uses instance variable instead of class attribute\n",
    "\n",
    "    def subtract(self, b, c):\n",
    "        return b - c  # A simple instance method instead of static\n",
    "\n",
    "    def get_values(self):\n",
    "        return (self.x, self.y)\n",
    "\n",
    "    def set_values(self, x, y):\n",
    "        self.x = x\n",
    "        self.y = y\n",
    "\n",
    "    def delete_values(self):\n",
    "        del self.x\n",
    "        del self.y\n",
    "\n",
    "# Example usage\n",
    "num = Numbers(3, 4)\n",
    "print(\"Addition:\", num.add())  # Output: 7\n",
    "print(\"Multiplication:\", num.multiply(2))  # Output: 10\n",
    "print(\"Subtraction:\", num.subtract(10, 5))  # Output: 5\n",
    "print(\"Values:\", num.get_values())  # Output: (3, 4)\n",
    "\n",
    "num.set_values(7, 8)\n",
    "print(\"Updated Values:\", num.get_values())  # Output: (7, 8)\n",
    "\n",
    "num.delete_values()\n"
   ]
  },
  {
   "cell_type": "code",
   "execution_count": null,
   "id": "0ae3cc13-20cb-444f-9e3f-893b8b5929f4",
   "metadata": {},
   "outputs": [],
   "source": []
  }
 ],
 "metadata": {
  "kernelspec": {
   "display_name": "Python [conda env:base] *",
   "language": "python",
   "name": "conda-base-py"
  },
  "language_info": {
   "codemirror_mode": {
    "name": "ipython",
    "version": 3
   },
   "file_extension": ".py",
   "mimetype": "text/x-python",
   "name": "python",
   "nbconvert_exporter": "python",
   "pygments_lexer": "ipython3",
   "version": "3.12.7"
  }
 },
 "nbformat": 4,
 "nbformat_minor": 5
}
