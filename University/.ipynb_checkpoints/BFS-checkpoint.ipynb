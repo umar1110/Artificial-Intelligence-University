{
 "cells": [
  {
   "cell_type": "code",
   "execution_count": 4,
   "id": "659caea6-886c-439d-b629-dc203f5e7532",
   "metadata": {},
   "outputs": [
    {
     "name": "stdout",
     "output_type": "stream",
     "text": [
      "Path from S to G: ['S', 'D', 'G']\n"
     ]
    }
   ],
   "source": [
    "from collections import deque\n",
    "\n",
    "def BFS(graph, start, goal):\n",
    "    visited = set()\n",
    "    queue = deque([[start]])  # queue of paths\n",
    "\n",
    "    while queue:\n",
    "        path = queue.popleft()  # get the first path from the queue\n",
    "        node = path[-1]         # get the last node from the path\n",
    "\n",
    "        if node == goal:\n",
    "            return path\n",
    "\n",
    "        if node not in visited:\n",
    "            visited.add(node)\n",
    "            for neighbor in graph.get(node, []):\n",
    "                new_path = list(path)\n",
    "                new_path.append(neighbor)\n",
    "                queue.append(new_path)\n",
    "\n",
    "    return None  # no path found\n",
    "\n",
    "graph = {\n",
    "    'S': ['A', 'C', 'D'],\n",
    "    'D': ['B', 'G'],\n",
    "    'B': ['E'],\n",
    "    'E': ['G'],\n",
    "    'C': ['F'],\n",
    "    'F': ['E', 'G'],\n",
    "}\n",
    "\n",
    "path = BFS(graph, 'S', 'G')\n",
    "print(\"Path from S to G:\", path)\n"
   ]
  },
  {
   "cell_type": "code",
   "execution_count": null,
   "id": "55d6a331-aa74-47a6-b9e4-8d4635953de6",
   "metadata": {},
   "outputs": [],
   "source": []
  }
 ],
 "metadata": {
  "kernelspec": {
   "display_name": "Python [conda env:base] *",
   "language": "python",
   "name": "conda-base-py"
  },
  "language_info": {
   "codemirror_mode": {
    "name": "ipython",
    "version": 3
   },
   "file_extension": ".py",
   "mimetype": "text/x-python",
   "name": "python",
   "nbconvert_exporter": "python",
   "pygments_lexer": "ipython3",
   "version": "3.12.7"
  }
 },
 "nbformat": 4,
 "nbformat_minor": 5
}
