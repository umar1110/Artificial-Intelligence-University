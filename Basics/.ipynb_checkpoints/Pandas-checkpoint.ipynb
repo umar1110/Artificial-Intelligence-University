{
 "cells": [
  {
   "cell_type": "code",
   "execution_count": 10,
   "id": "1b03103b-6bd2-4522-99e7-ce27a3644d9d",
   "metadata": {},
   "outputs": [
    {
     "name": "stdout",
     "output_type": "stream",
     "text": [
      "0    1\n",
      "1    2\n",
      "2    3\n",
      "3    4\n",
      "dtype: int64\n",
      "Data Type is :  <class 'pandas.core.series.Series'>\n",
      "0    1\n",
      "1    2\n",
      "2    3\n",
      "3    9\n",
      "dtype: int64\n"
     ]
    }
   ],
   "source": [
    "import pandas as pd\n",
    "\n",
    "se = pd.Series([\n",
    "    1,2,3,4])\n",
    "\n",
    "print(se)\n",
    "print(\"Data Type is : \" , type(se))\n",
    "\n",
    "se[3] = 9\n",
    "print(se)"
   ]
  },
  {
   "cell_type": "code",
   "execution_count": 28,
   "id": "44deec77-16b1-4243-83f3-5caf61855a06",
   "metadata": {},
   "outputs": [
    {
     "name": "stdout",
     "output_type": "stream",
     "text": [
      "      Name  Age  Salary\n",
      "0    Alice   25   50000\n",
      "1      Bob   30   60000\n",
      "2  Charlie   35   70000\n",
      "   0\n",
      "a  1\n",
      "b  2\n",
      "c  3\n",
      "d  4\n"
     ]
    }
   ],
   "source": [
    "data = {\n",
    "    \"Name\": [\"Alice\", \"Bob\", \"Charlie\"],\n",
    "    \"Age\": [25, 30, 35],\n",
    "    \"Salary\": [50000, 60000, 70000]\n",
    "}\n",
    "\n",
    "df = pd.DataFrame(data)\n",
    "print(df)\n",
    "\n",
    "\n",
    "df1 = pd.DataFrame([\n",
    "    1,2,3,4] ,index= [\"a\",\"b\",\"c\",\"d\"])\n",
    "\n",
    "\n",
    "print(df1)"
   ]
  },
  {
   "cell_type": "code",
   "execution_count": null,
   "id": "65842824-eae9-4c24-8d02-c9c1babe4c3a",
   "metadata": {},
   "outputs": [],
   "source": []
  }
 ],
 "metadata": {
  "kernelspec": {
   "display_name": "Python [conda env:base] *",
   "language": "python",
   "name": "conda-base-py"
  },
  "language_info": {
   "codemirror_mode": {
    "name": "ipython",
    "version": 3
   },
   "file_extension": ".py",
   "mimetype": "text/x-python",
   "name": "python",
   "nbconvert_exporter": "python",
   "pygments_lexer": "ipython3",
   "version": "3.12.7"
  }
 },
 "nbformat": 4,
 "nbformat_minor": 5
}
